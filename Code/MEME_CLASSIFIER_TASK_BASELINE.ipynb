{
  "cells": [
    {
      "cell_type": "markdown",
      "metadata": {
        "id": "1KsEFmBFssNs"
      },
      "source": [
        "# BASELINE FOR MEME CLASSIFIER\n",
        "\n",
        "Sources:\n",
        "\n",
        "\n",
        "*   https://towardsdatascience.com/multi-label-text-classification-with-scikit-learn-30714b7819c5\n",
        "*   https://stackabuse.com/text-classification-with-python-and-scikit-learn/\n",
        "*   https://towardsdatascience.com/multi-class-text-classification-with-scikit-learn-12f1e60e0a9f\n",
        "*   https://towardsdatascience.com/named-entity-recognition-and-classification-with-scikit-learn-f05372f07ba2 (task2)\n",
        "\n"
      ]
    },
    {
      "cell_type": "markdown",
      "metadata": {
        "id": "nO4a3weHOzd7"
      },
      "source": [
        "### DRIVE LINKING"
      ]
    },
    {
      "cell_type": "code",
      "execution_count": null,
      "metadata": {
        "colab": {
          "base_uri": "https://localhost:8080/"
        },
        "id": "kRVeig4uO2rV",
        "outputId": "4d8d7eb5-39cb-46b9-c151-3c770adafc22"
      },
      "outputs": [
        {
          "output_type": "stream",
          "name": "stdout",
          "text": [
            "Drive already mounted at /content/drive; to attempt to forcibly remount, call drive.mount(\"/content/drive\", force_remount=True).\n"
          ]
        }
      ],
      "source": [
        "from google.colab import drive\n",
        "drive.mount('/content/drive')"
      ]
    },
    {
      "cell_type": "markdown",
      "source": [
        "### CONSTANTS"
      ],
      "metadata": {
        "id": "WhiCUghlw8Ew"
      }
    },
    {
      "cell_type": "code",
      "source": [
        "LABELS = {\n",
        "    'Black-and-white Fallacy/Dictatorship': 0,\n",
        "    'Loaded Language': 1, \n",
        "    'Name calling/Labeling': 2, \n",
        "    'Slogans': 3, \n",
        "    'Smears': 4, \n",
        "    'Causal Oversimplification': 5, \n",
        "    'Appeal to fear/prejudice': 6, \n",
        "    'Exaggeration/Minimisation': 7, \n",
        "    'Reductio ad hitlerum': 8, \n",
        "    'Repetition': 9, \n",
        "    'Glittering generalities (Virtue)': 10, \n",
        "    \"Misrepresentation of Someone's Position (Straw Man)\": 11, \n",
        "    'Doubt': 12, \n",
        "    'Obfuscation, Intentional vagueness, Confusion': 13, \n",
        "    'Whataboutism': 14, \n",
        "    'Flag-waving': 15, \n",
        "    'Thought-terminating cliché': 16, \n",
        "    'Presenting Irrelevant Data (Red Herring)': 17, \n",
        "    'Appeal to authority': 18, \n",
        "    'Bandwagon': 19,\n",
        "}\n",
        "N_LABELS = len(LABELS)"
      ],
      "metadata": {
        "id": "DrYL0QqNw_Qi"
      },
      "execution_count": null,
      "outputs": []
    },
    {
      "cell_type": "markdown",
      "metadata": {
        "id": "dDpu3qtRulP6"
      },
      "source": [
        "### IMPORTS"
      ]
    },
    {
      "cell_type": "code",
      "source": [
        "import numpy as np\n",
        "import pandas as pd\n",
        "\n",
        "import json\n",
        "\n",
        "import re\n",
        "\n",
        "from tabulate import tabulate\n",
        "import seaborn as sn\n",
        "\n",
        "import matplotlib.pyplot as plt\n",
        "\n",
        "import nltk\n",
        "nltk.download('stopwords')\n",
        "nltk.download('wordnet')\n",
        "nltk.download('omw-1.4')\n",
        "\n",
        "from nltk.corpus import stopwords\n",
        "from nltk.stem import WordNetLemmatizer\n",
        "\n",
        "import pickle\n",
        "\n",
        "from sklearn.feature_extraction import DictVectorizer\n",
        "from sklearn.feature_extraction.text import TfidfVectorizer\n",
        "\n",
        "from sklearn.dummy import DummyClassifier\n",
        "from sklearn.multiclass import OneVsRestClassifier\n",
        "from sklearn.naive_bayes import MultinomialNB\n",
        "from sklearn.svm import LinearSVC\n",
        "from sklearn.linear_model import LogisticRegression\n",
        "\n",
        "from sklearn.metrics import accuracy_score, f1_score\n",
        "from sklearn.metrics import multilabel_confusion_matrix\n",
        "from sklearn.metrics import classification_report"
      ],
      "metadata": {
        "colab": {
          "base_uri": "https://localhost:8080/"
        },
        "id": "-qRDAj2wOsCk",
        "outputId": "c964fa57-a566-4751-a2ad-5d6a0d869987"
      },
      "execution_count": null,
      "outputs": [
        {
          "output_type": "stream",
          "name": "stderr",
          "text": [
            "[nltk_data] Downloading package stopwords to /root/nltk_data...\n",
            "[nltk_data]   Package stopwords is already up-to-date!\n",
            "[nltk_data] Downloading package wordnet to /root/nltk_data...\n",
            "[nltk_data]   Package wordnet is already up-to-date!\n",
            "[nltk_data] Downloading package omw-1.4 to /root/nltk_data...\n",
            "[nltk_data]   Package omw-1.4 is already up-to-date!\n"
          ]
        }
      ]
    },
    {
      "cell_type": "markdown",
      "source": [
        "## TASK 1"
      ],
      "metadata": {
        "id": "Rfi9uRLJGp24"
      }
    },
    {
      "cell_type": "markdown",
      "source": [
        "### DATASET"
      ],
      "metadata": {
        "id": "SvHw7XRR4d_Q"
      }
    },
    {
      "cell_type": "code",
      "source": [
        "def load_datasets(task_number):\n",
        "\n",
        "    folder = \"drive/MyDrive/DeepLearning/Dataset/\"\n",
        "\n",
        "    if   task_number == 1:\n",
        "        train_path = folder + \"task1/training_set_task1.txt\"\n",
        "        test_path = folder + \"task1/test_set_task1.txt\"\n",
        "        dev_path = folder + \"task1/dev_set_task1.txt\"\n",
        "    elif task_number == 2:\n",
        "        train_path = folder + \"task2/training_set_task2.txt\"\n",
        "        test_path = folder + \"task2/test_set_task2.txt\"\n",
        "        dev_path = folder + \"task2/dev_set_task2.txt\"\n",
        "    elif task_number == 3:\n",
        "        train_path = folder + \"task3/training/training_set_task3.txt\"\n",
        "        test_path = folder + \"task3/test/test_set_task3.txt\"\n",
        "        dev_path = folder + \"task3/dev/dev_set_task3.txt\"\n",
        "    else:\n",
        "        raise AssertionError('Bad task_number. Possible inputs: 1, 2, 3.')\n",
        "\n",
        "    def load_json2pandas(path): \n",
        "        \n",
        "        with open(path) as f:\n",
        "            data = json.load(f)\n",
        "        return pd.DataFrame(data)\n",
        "\n",
        "    train = load_json2pandas(train_path)\n",
        "    test = load_json2pandas(test_path)\n",
        "    dev = load_json2pandas(dev_path)\n",
        "\n",
        "    return train, test, dev"
      ],
      "metadata": {
        "id": "4Bk3bCyPQ6no"
      },
      "execution_count": null,
      "outputs": []
    },
    {
      "cell_type": "code",
      "source": [
        "def one_hot_encoder(labels):\n",
        "\n",
        "    def encode(labels):\n",
        "\n",
        "        ohe_label = [0] * N_LABELS\n",
        "        for l in labels:\n",
        "            ohe_label[LABELS[l]] = 1\n",
        "\n",
        "        return ohe_label\n",
        "\n",
        "    return np.array([encode(l) for l in labels])"
      ],
      "metadata": {
        "id": "JaQOQrl2Tm8I"
      },
      "execution_count": null,
      "outputs": []
    },
    {
      "cell_type": "code",
      "source": [
        "def process_sentences(sentences):\n",
        "\n",
        "    stemmer = WordNetLemmatizer()\n",
        "\n",
        "    def process_sentence(sentence):\n",
        "\n",
        "        # Remove all the special characters\n",
        "        document = re.sub(r'\\W', ' ', str(sentence))\n",
        "        \n",
        "        # remove all single characters\n",
        "        document = re.sub(r'\\s+[a-zA-Z]\\s+', ' ', document)\n",
        "        \n",
        "        # Remove single characters from the start\n",
        "        document = re.sub(r'\\^[a-zA-Z]\\s+', ' ', document) \n",
        "        \n",
        "        # Substituting multiple spaces with single space\n",
        "        document = re.sub(r'\\s+', ' ', document, flags=re.I)\n",
        "        \n",
        "        # Removing prefixed 'b'\n",
        "        document = re.sub(r'^b\\s+', '', document)\n",
        "        \n",
        "        # Converting to Lowercase\n",
        "        document = document.lower()\n",
        "        \n",
        "        # Lemmatization\n",
        "        document = document.split()\n",
        "\n",
        "        document = [stemmer.lemmatize(word) for word in document]\n",
        "        document = ' '.join(document)\n",
        "\n",
        "        return document\n",
        "\n",
        "    return [process_sentence(sen) for sen in sentences]"
      ],
      "metadata": {
        "id": "zjdY9QNOP2Ds"
      },
      "execution_count": null,
      "outputs": []
    },
    {
      "cell_type": "code",
      "source": [
        "def process_dataset(train, test, dev):\n",
        "\n",
        "    documents = np.concatenate([\n",
        "        process_sentences(train.text),\n",
        "        process_sentences(test.text),\n",
        "        process_sentences(dev.text)])\n",
        "\n",
        "    tfidf = TfidfVectorizer(sublinear_tf=True, \n",
        "                        min_df=5, \n",
        "                        max_df=0.7,\n",
        "                        stop_words='english')\n",
        "    \n",
        "    X = tfidf.fit_transform(documents).toarray()\n",
        "\n",
        "    X_train = X[:len(train)]\n",
        "    X_test = X[len(train):len(train)+len(test)]\n",
        "    X_dev = X[len(train)+len(test):]\n",
        "\n",
        "    y_train = one_hot_encoder(train.labels)\n",
        "    y_test = one_hot_encoder(test.labels)\n",
        "    y_dev = one_hot_encoder(dev.labels)\n",
        "\n",
        "    return X_train, y_train, X_test, y_test, X_dev, y_dev"
      ],
      "metadata": {
        "id": "jQYxd1ZUW-mL"
      },
      "execution_count": null,
      "outputs": []
    },
    {
      "cell_type": "markdown",
      "source": [
        "#### VISUALIZING DATA"
      ],
      "metadata": {
        "id": "q9sD6Rck98me"
      }
    },
    {
      "cell_type": "code",
      "source": [
        "def plot_labels_histo(ds):\n",
        "\n",
        "    labels = [LABELS[l] for l_list in ds.labels for l in l_list]\n",
        "\n",
        "    plt.hist(labels, bins=40)\n",
        "    plt.xticks(range(0, max(labels) + 1))\n",
        "    plt.show()\n",
        "\n",
        "train, _, _ = load_datasets(1)\n",
        "plot_labels_histo(train)"
      ],
      "metadata": {
        "colab": {
          "base_uri": "https://localhost:8080/"
        },
        "id": "v3FLDe-n-ALz",
        "outputId": "8028e06b-aa39-457c-b914-3df8f06c5c00"
      },
      "execution_count": null,
      "outputs": [
        {
          "output_type": "display_data",
          "data": {
            "text/plain": [
              "<Figure size 432x288 with 1 Axes>"
            ],
            "image/png": "[encoded data removed]"
          },
          "metadata": {
            "needs_background": "light"
          }
        }
      ]
    },
    {
      "cell_type": "markdown",
      "source": [
        "### TRAINING "
      ],
      "metadata": {
        "id": "we3vsX7p4iv1"
      }
    },
    {
      "cell_type": "code",
      "source": [
        "def train_classifier(clf, X_train, y_train, X_val, y_val):\n",
        "    \"\"\"Trains a classifier over train data and prints \n",
        "    the evaluation on val data.\"\"\"\n",
        "\n",
        "    clf.fit(X_train, y_train)\n",
        "\n",
        "    prediction = clf.predict(X_val)\n",
        "\n",
        "    print('Eval f_micro is {:10.4f}'.format(\n",
        "        f1_score(y_val, prediction, average='micro')))\n",
        "    print('Eval f_macro is {:10.4f}'.format(\n",
        "        f1_score(y_val, prediction, average='macro')))"
      ],
      "metadata": {
        "id": "JDKKdt0V11oP"
      },
      "execution_count": null,
      "outputs": []
    },
    {
      "cell_type": "code",
      "source": [
        "train, test, dev = load_datasets(1)\n",
        "\n",
        "X_train, y_train, X_test, y_test, X_dev, y_dev = process_dataset(\n",
        "    train, test, dev)\n",
        "\n",
        "print(\"Train features shape:\", X_train.shape)\n",
        "print(\"Train labels shape:\", y_train.shape)\n",
        "\n",
        "print(\"\\nTest features shape:\", X_test.shape)\n",
        "print(\"Test labels shape:\", y_test.shape)\n",
        "\n",
        "print(\"\\nDev features shape:\", X_dev.shape)\n",
        "print(\"Dev labels shape:\", y_dev.shape)"
      ],
      "metadata": {
        "colab": {
          "base_uri": "https://localhost:8080/"
        },
        "id": "DO4tGyS8Pcb2",
        "outputId": "01d94d5a-0740-41b9-d8c0-6c34f4777385"
      },
      "execution_count": null,
      "outputs": [
        {
          "output_type": "stream",
          "name": "stdout",
          "text": [
            "Train features shape: (688, 364)\n",
            "Train labels shape: (688, 20)\n",
            "\n",
            "Test features shape: (200, 364)\n",
            "Test labels shape: (200, 20)\n",
            "\n",
            "Dev features shape: (63, 364)\n",
            "Dev labels shape: (63, 20)\n"
          ]
        }
      ]
    },
    {
      "cell_type": "code",
      "source": [
        "classifiers = [\n",
        "    DummyClassifier(strategy=\"uniform\"),\n",
        "    DummyClassifier(strategy=\"stratified\"),\n",
        "    OneVsRestClassifier(MultinomialNB(fit_prior=True, class_prior=None)),\n",
        "    OneVsRestClassifier(LinearSVC()),\n",
        "]\n",
        "\n",
        "for clf in classifiers:\n",
        "    print(clf)\n",
        "    \n",
        "    train_classifier(clf, X_train, y_train, X_test, y_test)\n",
        "    print()"
      ],
      "metadata": {
        "colab": {
          "base_uri": "https://localhost:8080/"
        },
        "id": "oGXjkWQv6m_Q",
        "outputId": "0c1264d2-8ec6-4d51-ba1c-01748cd10019"
      },
      "execution_count": null,
      "outputs": [
        {
          "output_type": "stream",
          "name": "stdout",
          "text": [
            "DummyClassifier(strategy='uniform')\n",
            "Eval f_micro is     0.1497\n",
            "Eval f_macro is     0.1246\n",
            "\n",
            "DummyClassifier(strategy='stratified')\n",
            "Eval f_micro is     0.2595\n",
            "Eval f_macro is     0.0648\n",
            "\n",
            "OneVsRestClassifier(estimator=MultinomialNB())\n",
            "Eval f_micro is     0.2637\n",
            "Eval f_macro is     0.0381\n",
            "\n",
            "OneVsRestClassifier(estimator=LinearSVC())\n",
            "Eval f_micro is     0.3154\n",
            "Eval f_macro is     0.0942\n",
            "\n"
          ]
        }
      ]
    },
    {
      "cell_type": "markdown",
      "source": [
        "## TASK 3"
      ],
      "metadata": {
        "id": "zDRCEnT2SNSA"
      }
    },
    {
      "cell_type": "code",
      "source": [
        "train, test, dev = load_datasets(1)\n",
        "\n",
        "X_train, y_train, X_test, y_test, X_dev, y_dev = process_dataset(\n",
        "    train, test, dev)\n",
        "\n",
        "print(\"Train features shape:\", X_train.shape)\n",
        "print(\"Train labels shape:\", y_train.shape)\n",
        "\n",
        "print(\"\\nTest features shape:\", X_test.shape)\n",
        "print(\"Test labels shape:\", y_test.shape)\n",
        "\n",
        "print(\"\\nDev features shape:\", X_dev.shape)\n",
        "print(\"Dev labels shape:\", y_dev.shape)"
      ],
      "metadata": {
        "id": "C367nh9NSR4g",
        "colab": {
          "base_uri": "https://localhost:8080/"
        },
        "outputId": "dd631d3c-182a-4153-9af2-702852ee3ac3"
      },
      "execution_count": null,
      "outputs": [
        {
          "output_type": "stream",
          "name": "stdout",
          "text": [
            "Train features shape: (688, 364)\n",
            "Train labels shape: (688, 20)\n",
            "\n",
            "Test features shape: (200, 364)\n",
            "Test labels shape: (200, 20)\n",
            "\n",
            "Dev features shape: (63, 364)\n",
            "Dev labels shape: (63, 20)\n"
          ]
        }
      ]
    },
    {
      "cell_type": "code",
      "source": [
        "classifiers = [\n",
        "    DummyClassifier(strategy=\"uniform\"),\n",
        "    DummyClassifier(strategy=\"stratified\"),\n",
        "    OneVsRestClassifier(MultinomialNB(fit_prior=True, class_prior=None)),\n",
        "    OneVsRestClassifier(LinearSVC()),\n",
        "]\n",
        "\n",
        "for clf in classifiers:\n",
        "    print(clf)\n",
        "    \n",
        "    train_classifier(clf, X_train, y_train, X_test, y_test)\n",
        "    print()"
      ],
      "metadata": {
        "colab": {
          "base_uri": "https://localhost:8080/"
        },
        "id": "HmYzjPmJS7yN",
        "outputId": "e9bccff5-905b-4ba4-fa1e-6caee90f6224"
      },
      "execution_count": null,
      "outputs": [
        {
          "output_type": "stream",
          "name": "stdout",
          "text": [
            "DummyClassifier(strategy='uniform')\n",
            "Eval f_micro is     0.1359\n",
            "Eval f_macro is     0.1148\n",
            "\n",
            "DummyClassifier(strategy='stratified')\n",
            "Eval f_micro is     0.2403\n",
            "Eval f_macro is     0.0680\n",
            "\n",
            "OneVsRestClassifier(estimator=MultinomialNB())\n",
            "Eval f_micro is     0.2637\n",
            "Eval f_macro is     0.0381\n",
            "\n",
            "OneVsRestClassifier(estimator=LinearSVC())\n",
            "Eval f_micro is     0.3154\n",
            "Eval f_macro is     0.0942\n",
            "\n"
          ]
        }
      ]
    },
    {
      "cell_type": "markdown",
      "source": [
        "## TASK 2"
      ],
      "metadata": {
        "id": "hokvuN5lGwEj"
      }
    },
    {
      "cell_type": "markdown",
      "source": [
        "### DATASET"
      ],
      "metadata": {
        "id": "ExUfKErPGyuu"
      }
    },
    {
      "cell_type": "code",
      "source": [
        "class Span():\n",
        "\n",
        "\n",
        "    def __init__(self, start=-1, end=-1):\n",
        "\n",
        "        if start > end: \n",
        "            start = -1 \n",
        "            end = -1\n",
        "        self.start = start\n",
        "        self.end = end\n",
        "\n",
        "    def is_valid(self) -> bool: \n",
        "\n",
        "        return self.start >= 0 and self.end >= 0 and self.start <= self.end\n",
        "\n",
        "    def intersect(self, other):\n",
        "\n",
        "        if not self.is_valid() or not other.is_valid(): \n",
        "            return Span()\n",
        "        return Span(max(self.start, other.start), min(self.end, other.end))\n",
        "\n",
        "    def length(self) -> int: \n",
        "\n",
        "        if not self.is_valid(): \n",
        "            return 0\n",
        "        return self.end - self.start\n",
        "\n",
        "    def __eq__(self, __o: object) -> bool:\n",
        "\n",
        "        return self.start == __o.start and self.end == __o.end\n",
        "\n",
        "    def __lt__(self, __o: object) -> bool:\n",
        "\n",
        "        if self.start == __o.start: \n",
        "            return ((self.end) < (__o.end))\n",
        "        return ((self.start) < (__o.start))\n",
        "\n",
        "    def __str__(self) -> str:\n",
        "\n",
        "        return \"({}, {})\".format(self.start, self.end)\n",
        "\n",
        "    def __repr__(self) -> str:\n",
        "\n",
        "        return \"({}, {})\".format(self.start, self.end)"
      ],
      "metadata": {
        "id": "tH6QyjDoESSv"
      },
      "execution_count": null,
      "outputs": []
    },
    {
      "cell_type": "code",
      "source": [
        "class Dataset():\n",
        "\n",
        "\n",
        "    def __init__(self, X, y, pos_map, sen_map, y_spans):\n",
        "\n",
        "        self.X = X\n",
        "        self.y = y\n",
        "\n",
        "        self.pos_map = pos_map\n",
        "        self.sen_map = sen_map\n",
        "\n",
        "        self.y_spans = y_spans\n",
        "\n",
        "\n",
        "def get_sentence_data(sentence, label_dict, i):\n",
        "\n",
        "    def get_word_data(m, i):\n",
        "\n",
        "        tag = [0] * N_LABELS\n",
        "        for d in label_dict:\n",
        "            if d['start'] <= m.start() and d['end'] >= m.end():\n",
        "                tag[LABELS[d['technique']]] = 1\n",
        "\n",
        "        return {'sentence': i, \n",
        "                'word': m.group().lower(), \n",
        "                'tag': tag, \n",
        "                'span': Span(m.start(), m.end())}\n",
        "\n",
        "    iterator = re.finditer(r'\\w+|[^\\w\\s]+', sentence)\n",
        "    return [get_word_data(match, i) for match in iterator]\n",
        "\n",
        "def process_dataset(train, test, dev):\n",
        "\n",
        "    def process(data):\n",
        "\n",
        "        def label_dicts_to_spans(label_dicts):\n",
        "\n",
        "            spans = [[] for _ in range(N_LABELS)]\n",
        "            for d in label_dicts: \n",
        "                t_num = LABELS[d['technique']]\n",
        "                spans[t_num].append(Span(d['start'], d['end']))\n",
        "\n",
        "            return spans\n",
        "\n",
        "        sentences = data.text\n",
        "        label_dicts = data.labels\n",
        "\n",
        "        res = []\n",
        "        for i, [s, l] in enumerate(zip(sentences, label_dicts)):\n",
        "            res.extend(get_sentence_data(s, l, i))\n",
        "\n",
        "        spans = [label_dicts_to_spans(ds) for ds in label_dicts]\n",
        "\n",
        "        return pd.DataFrame(res), spans\n",
        "\n",
        "    train, train_spans = process(train)\n",
        "    test, test_spans = process(test)\n",
        "    dev, dev_spans = process(dev)\n",
        "\n",
        "    df = pd.concat([train, test, dev])\n",
        "\n",
        "    X = df.drop(['tag', 'span'], axis=1)\n",
        "    v = DictVectorizer(sparse=False)\n",
        "    X = v.fit_transform(X.to_dict('records'))\n",
        "    y = np.stack(df.tag.values)\n",
        "\n",
        "    pos_map = np.stack(df.span.values)\n",
        "    sen_map = np.stack(df.sentence.values)\n",
        "\n",
        "    l_train = len(train)\n",
        "    l_test = len(test)\n",
        "\n",
        "    def make_dataset(s, e, spans): \n",
        "        return Dataset(X[s:e], y[s:e], pos_map[s:e], sen_map[s:e], spans)\n",
        "\n",
        "    train = make_dataset(0, l_train, train_spans)\n",
        "    test = make_dataset(l_train, l_train+l_test, test_spans)\n",
        "    dev = make_dataset(l_train+l_test, len(X), dev_spans)\n",
        "\n",
        "    return train, test, dev"
      ],
      "metadata": {
        "id": "x20naEnOG290"
      },
      "execution_count": null,
      "outputs": []
    },
    {
      "cell_type": "markdown",
      "source": [
        "### TRAINING"
      ],
      "metadata": {
        "id": "TIP8z703Gvrv"
      }
    },
    {
      "cell_type": "code",
      "source": [
        "train, test, dev = load_datasets(2)\n",
        "\n",
        "train, test, dev = process_dataset(train, test, dev)\n",
        "\n",
        "print(\"Train features shape:\", train.X.shape)\n",
        "print(\"Train labels shape:\", train.y.shape)\n",
        "\n",
        "print(\"\\nTest features shape:\", test.X.shape)\n",
        "print(\"Test labels shape:\", test.y.shape)\n",
        "\n",
        "print(\"\\nDev features shape:\", dev.X.shape)\n",
        "print(\"Dev labels shape:\", dev.y.shape)"
      ],
      "metadata": {
        "colab": {
          "base_uri": "https://localhost:8080/"
        },
        "id": "YjfllyTY5TRf",
        "outputId": "07fb78c2-822b-410f-b2bb-62a9a5bbc875"
      },
      "execution_count": null,
      "outputs": [
        {
          "output_type": "stream",
          "name": "stdout",
          "text": [
            "Train features shape: (14760, 3927)\n",
            "Train labels shape: (14760, 20)\n",
            "\n",
            "Test features shape: (4083, 3927)\n",
            "Test labels shape: (4083, 20)\n",
            "\n",
            "Dev features shape: (1406, 3927)\n",
            "Dev labels shape: (1406, 20)\n"
          ]
        }
      ]
    },
    {
      "cell_type": "code",
      "source": [
        "classifiers = [\n",
        "    DummyClassifier(strategy=\"uniform\"),\n",
        "    DummyClassifier(strategy=\"stratified\"),\n",
        "    OneVsRestClassifier(MultinomialNB(fit_prior=True, class_prior=None)),\n",
        "    OneVsRestClassifier(LinearSVC()),\n",
        "]\n",
        "\n",
        "for clf in classifiers:\n",
        "    print(clf)\n",
        "\n",
        "    train_classifier(clf, train.X, train.y, test.X, test.y)\n",
        "    print()"
      ],
      "metadata": {
        "colab": {
          "base_uri": "https://localhost:8080/"
        },
        "id": "weLbe71sKEng",
        "outputId": "31505e02-0338-49b7-8b13-b10cb088e72e"
      },
      "execution_count": null,
      "outputs": [
        {
          "output_type": "stream",
          "name": "stdout",
          "text": [
            "DummyClassifier(strategy='uniform')\n",
            "Eval f_micro is     0.0809\n",
            "Eval f_macro is     0.0731\n",
            "\n",
            "DummyClassifier(strategy='stratified')\n",
            "Eval f_micro is     0.1173\n",
            "Eval f_macro is     0.0406\n",
            "\n",
            "OneVsRestClassifier(estimator=MultinomialNB())\n",
            "Eval f_micro is     0.0612\n",
            "Eval f_macro is     0.0223\n",
            "\n",
            "OneVsRestClassifier(estimator=LinearSVC())\n"
          ]
        },
        {
          "output_type": "stream",
          "name": "stderr",
          "text": [
            "/usr/local/lib/python3.7/dist-packages/sklearn/svm/_base.py:1208: ConvergenceWarning: Liblinear failed to converge, increase the number of iterations.\n",
            "  ConvergenceWarning,\n",
            "/usr/local/lib/python3.7/dist-packages/sklearn/svm/_base.py:1208: ConvergenceWarning: Liblinear failed to converge, increase the number of iterations.\n",
            "  ConvergenceWarning,\n",
            "/usr/local/lib/python3.7/dist-packages/sklearn/svm/_base.py:1208: ConvergenceWarning: Liblinear failed to converge, increase the number of iterations.\n",
            "  ConvergenceWarning,\n",
            "/usr/local/lib/python3.7/dist-packages/sklearn/svm/_base.py:1208: ConvergenceWarning: Liblinear failed to converge, increase the number of iterations.\n",
            "  ConvergenceWarning,\n",
            "/usr/local/lib/python3.7/dist-packages/sklearn/svm/_base.py:1208: ConvergenceWarning: Liblinear failed to converge, increase the number of iterations.\n",
            "  ConvergenceWarning,\n",
            "/usr/local/lib/python3.7/dist-packages/sklearn/svm/_base.py:1208: ConvergenceWarning: Liblinear failed to converge, increase the number of iterations.\n",
            "  ConvergenceWarning,\n",
            "/usr/local/lib/python3.7/dist-packages/sklearn/svm/_base.py:1208: ConvergenceWarning: Liblinear failed to converge, increase the number of iterations.\n",
            "  ConvergenceWarning,\n",
            "/usr/local/lib/python3.7/dist-packages/sklearn/svm/_base.py:1208: ConvergenceWarning: Liblinear failed to converge, increase the number of iterations.\n",
            "  ConvergenceWarning,\n",
            "/usr/local/lib/python3.7/dist-packages/sklearn/svm/_base.py:1208: ConvergenceWarning: Liblinear failed to converge, increase the number of iterations.\n",
            "  ConvergenceWarning,\n",
            "/usr/local/lib/python3.7/dist-packages/sklearn/svm/_base.py:1208: ConvergenceWarning: Liblinear failed to converge, increase the number of iterations.\n",
            "  ConvergenceWarning,\n",
            "/usr/local/lib/python3.7/dist-packages/sklearn/svm/_base.py:1208: ConvergenceWarning: Liblinear failed to converge, increase the number of iterations.\n",
            "  ConvergenceWarning,\n",
            "/usr/local/lib/python3.7/dist-packages/sklearn/svm/_base.py:1208: ConvergenceWarning: Liblinear failed to converge, increase the number of iterations.\n",
            "  ConvergenceWarning,\n",
            "/usr/local/lib/python3.7/dist-packages/sklearn/svm/_base.py:1208: ConvergenceWarning: Liblinear failed to converge, increase the number of iterations.\n",
            "  ConvergenceWarning,\n",
            "/usr/local/lib/python3.7/dist-packages/sklearn/svm/_base.py:1208: ConvergenceWarning: Liblinear failed to converge, increase the number of iterations.\n",
            "  ConvergenceWarning,\n",
            "/usr/local/lib/python3.7/dist-packages/sklearn/svm/_base.py:1208: ConvergenceWarning: Liblinear failed to converge, increase the number of iterations.\n",
            "  ConvergenceWarning,\n",
            "/usr/local/lib/python3.7/dist-packages/sklearn/svm/_base.py:1208: ConvergenceWarning: Liblinear failed to converge, increase the number of iterations.\n",
            "  ConvergenceWarning,\n",
            "/usr/local/lib/python3.7/dist-packages/sklearn/svm/_base.py:1208: ConvergenceWarning: Liblinear failed to converge, increase the number of iterations.\n",
            "  ConvergenceWarning,\n",
            "/usr/local/lib/python3.7/dist-packages/sklearn/svm/_base.py:1208: ConvergenceWarning: Liblinear failed to converge, increase the number of iterations.\n",
            "  ConvergenceWarning,\n",
            "/usr/local/lib/python3.7/dist-packages/sklearn/svm/_base.py:1208: ConvergenceWarning: Liblinear failed to converge, increase the number of iterations.\n",
            "  ConvergenceWarning,\n",
            "/usr/local/lib/python3.7/dist-packages/sklearn/svm/_base.py:1208: ConvergenceWarning: Liblinear failed to converge, increase the number of iterations.\n",
            "  ConvergenceWarning,\n"
          ]
        },
        {
          "output_type": "stream",
          "name": "stdout",
          "text": [
            "Eval f_micro is     0.0742\n",
            "Eval f_macro is     0.0331\n",
            "\n"
          ]
        }
      ]
    },
    {
      "cell_type": "markdown",
      "source": [
        "### TESTING"
      ],
      "metadata": {
        "id": "Gt_jDxVMMHnD"
      }
    },
    {
      "cell_type": "code",
      "source": [
        "def ohe_to_spans(ohe, pos_map, sen_map):\n",
        "\n",
        "    def in_sentence_groups(x_list, sen_map):\n",
        "        '''Returns \"x_list\" regrouped as in \"sen_map\".'''\n",
        "\n",
        "        d = {}\n",
        "\n",
        "        def add(x, group):\n",
        "            \n",
        "            if group in d:\n",
        "                d[group].append(x)\n",
        "            else:\n",
        "                d[group] = [x]\n",
        "\n",
        "        for x, s in zip(x_list, sen_map):\n",
        "            add(x, s)\n",
        "        \n",
        "        return [np.stack(x) for x in d.values()]\n",
        "\n",
        "    def ohe_sentence_to_spans(ohe_sentence, pos_map_sentence):\n",
        "\n",
        "        results = []\n",
        "        for class_res in ohe_sentence.T:\n",
        "            result = []\n",
        "            cur_span = None\n",
        "            for tok_res, tok_span in zip(class_res, pos_map_sentence):\n",
        "                if cur_span is None:\n",
        "                    if tok_res == 1:\n",
        "                        cur_span = tok_span\n",
        "                else:\n",
        "                    if tok_res == 1:\n",
        "                        cur_span.end = tok_span.end\n",
        "                    if tok_res == 0:\n",
        "                        result.append(cur_span)\n",
        "                        cur_span = None\n",
        "\n",
        "            if cur_span is not None: result.append(cur_span)\n",
        "            results.append(result)\n",
        "            \n",
        "        return results\n",
        "\n",
        "    return [\n",
        "        ohe_sentence_to_spans(ohe, pos) for ohe, pos in zip(\n",
        "            in_sentence_groups(ohe, sen_map),\n",
        "            in_sentence_groups(pos_map, sen_map))]"
      ],
      "metadata": {
        "id": "I4Ogj3YV_F-g"
      },
      "execution_count": null,
      "outputs": []
    },
    {
      "cell_type": "code",
      "source": [
        "def C(s, t, h): return s.intersect(t).length() / h\n",
        "\n",
        "def precision_metric(S, T):\n",
        "\n",
        "    Sn = 0\n",
        "    sum = 0\n",
        "    for c_S, c_T in zip(S, T):\n",
        "        for s in c_S:\n",
        "            for t in c_T: \n",
        "                sum += C(s, t, s.length())\n",
        "\n",
        "        Sn += len(c_S)\n",
        "\n",
        "    if Sn == 0 and sum == 0: \n",
        "        return 1\n",
        "    if Sn == 0: \n",
        "        return 0\n",
        "\n",
        "    return sum / Sn\n",
        "\n",
        "def recall_metric(S, T): return precision_metric(T, S)\n",
        "\n",
        "def f1_metric(pred_spans, label_spans):\n",
        "\n",
        "    p_sum = 0\n",
        "    r_sum = 0\n",
        "    for S, T in zip(pred_spans, label_spans):\n",
        "        p_sum += precision_metric(S, T)\n",
        "        r_sum += recall_metric(S, T)\n",
        "\n",
        "    p = p_sum / len(pred_spans)\n",
        "    r = r_sum / len(pred_spans)\n",
        "\n",
        "    return 2 * (p*r) / (p+r), p, r\n",
        "\n",
        "def test_classifier(clf, X_test, y_test_spans, pos_map, sen_map):\n",
        "    \"\"\"Tests a classifier using test data and labels in the\n",
        "    form of spans.\"\"\"\n",
        "\n",
        "    y_pred_ohe = clf.predict(X_test)\n",
        "\n",
        "    y_pred_spans = ohe_to_spans(y_pred_ohe, pos_map, sen_map)\n",
        "\n",
        "    f1, p, r = f1_metric(y_pred_spans, y_test_spans)\n",
        "\n",
        "    print(clf)\n",
        "    print('Test f1 is {:10.4f}'.format(f1))\n",
        "    print('Test precision is {:10.4f}'.format(p))\n",
        "    print('Test recall is {:10.4f}'.format(r))\n",
        "    print()"
      ],
      "metadata": {
        "id": "_jhMQfqhPtiz"
      },
      "execution_count": null,
      "outputs": []
    },
    {
      "cell_type": "code",
      "source": [
        "for clf in classifiers:\n",
        "    test_classifier(\n",
        "        clf, test.X, test.y_spans, test.pos_map, test.sen_map)"
      ],
      "metadata": {
        "colab": {
          "base_uri": "https://localhost:8080/"
        },
        "id": "qMZXNoj5H9Gj",
        "outputId": "2c6bd363-4d99-4e69-a890-3b6360288921"
      },
      "execution_count": null,
      "outputs": [
        {
          "output_type": "stream",
          "name": "stdout",
          "text": [
            "DummyClassifier(strategy='uniform')\n",
            "Test f1 is     0.0826\n",
            "Test precision is     0.0426\n",
            "Test recall is     1.3069\n",
            "\n",
            "DummyClassifier(strategy='stratified')\n",
            "Test f1 is     0.1649\n",
            "Test precision is     0.0996\n",
            "Test recall is     0.4791\n",
            "\n",
            "OneVsRestClassifier(estimator=MultinomialNB())\n",
            "Test f1 is     0.4213\n",
            "Test precision is     0.5729\n",
            "Test recall is     0.3332\n",
            "\n",
            "OneVsRestClassifier(estimator=LinearSVC())\n",
            "Test f1 is     0.2577\n",
            "Test precision is     0.1952\n",
            "Test recall is     0.3791\n",
            "\n"
          ]
        }
      ]
    }
  ],
  "metadata": {
    "colab": {
      "collapsed_sections": [
        "nO4a3weHOzd7",
        "WhiCUghlw8Ew",
        "dDpu3qtRulP6",
        "zDRCEnT2SNSA",
        "hokvuN5lGwEj",
        "ExUfKErPGyuu",
        "TIP8z703Gvrv",
        "Gt_jDxVMMHnD"
      ],
      "provenance": []
    },
    "gpuClass": "standard",
    "kernelspec": {
      "display_name": "Python 3",
      "name": "python3"
    },
    "language_info": {
      "name": "python"
    }
  },
  "nbformat": 4,
  "nbformat_minor": 0
}